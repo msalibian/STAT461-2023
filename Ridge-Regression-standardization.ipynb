{
 "cells": [
  {
   "cell_type": "markdown",
   "metadata": {},
   "source": [
    "#### LICENSE\n",
    "These notes are released under the \n",
    "\"Creative Commons Attribution-ShareAlike 4.0 International\" license. \n",
    "See the **human-readable version** [here](https://creativecommons.org/licenses/by-sa/4.0/)\n",
    "and the **real thing** [here](https://creativecommons.org/licenses/by-sa/4.0/legalcode). \n",
    "\n",
    "## Ridge regression \n",
    "\n",
    "### Standardization of responses and explanatory variables\n",
    "\n",
    "Penalty does not include the intercept. Magnitude (amount) of regularization\n",
    "may depend on the scale of the covariates (because the magnitude of the \n",
    "regression coefficients depends on the \"size\" of the features). \n",
    "\n",
    "We need to standardize the input variables. Otherwise, the results may be\n",
    "determined by the size of one of the explanatory variables (which is \n",
    "arbitrary and can be modified without changing the model). \n"
   ]
  },
  {
   "cell_type": "code",
   "execution_count": null,
   "metadata": {
    "attributes": {
     "classes": [],
     "id": "",
     "message": "FALSE",
     "warning": "FALSE,"
    }
   },
   "outputs": [],
   "source": [
    "library(glmnet)\n",
    "data(alcohol, package='robustbase')\n",
    "\n",
    "x <- model.matrix(logSolubility ~ ., data=alcohol)\n",
    "x <- x[, -1]\n",
    "y <- alcohol$logSolubility\n",
    "lambdas <- exp( seq(-20, 10, length=200))\n",
    "\n",
    "### w/o standardization\n",
    "set.seed(123)\n",
    "a <- cv.glmnet(x=x, y=y, family='gaussian', alpha=0, lambda=lambdas, standardize = FALSE)\n",
    "x[, 5] <- x[, 5] / 100000\n",
    "set.seed(123)\n",
    "b <- cv.glmnet(x=x, y=y, family='gaussian', alpha=0, lambda=lambdas, standardize = FALSE)\n",
    "# round(cbind(coef(b, s = 'lambda.1se'), coef(b, s='lambda.min')), 4)\n",
    "round(cbind(coef(a, s='lambda.min'), coef(b, s='lambda.min')), 4)\n",
    "c(a$lambda.min, b$lambda.min)\n",
    "\n",
    "\n",
    "### w/standardization\n",
    "x <- model.matrix(logSolubility ~ ., data=alcohol)\n",
    "x <- x[, -1]\n",
    "y <- alcohol$logSolubility\n",
    "lambdas <- exp( seq(-20, 10, length=200))\n",
    "set.seed(123)\n",
    "a2 <- cv.glmnet(x=x, y=y, family='gaussian', alpha=0, lambda=lambdas, standardize = TRUE)\n",
    "x[, 5] <- x[, 5] / 100000\n",
    "set.seed(123)\n",
    "b2 <- cv.glmnet(x=x, y=y, family='gaussian', alpha=0, lambda=lambdas, standardize = TRUE)\n",
    "round(cbind(coef(a2, s='lambda.min'), coef(b2, s='lambda.min'), coef(b, s='lambda.min')), 4)\n",
    "c(a2$lambda.min, b2$lambda.min, b$lambda.min)\n",
    "plot(a)\n",
    "plot(b)\n",
    "plot(a2)\n",
    "plot(b2)"
   ]
  }
 ],
 "metadata": {
  "kernelspec": {
   "display_name": "R",
   "language": "R",
   "name": "ir"
  },
  "language_info": {
   "codemirror_mode": "r",
   "file_extension": ".r",
   "mimetype": "text/x-r-source",
   "name": "R",
   "pygments_lexer": "r",
   "version": "4.2.3"
  }
 },
 "nbformat": 4,
 "nbformat_minor": 2
}
