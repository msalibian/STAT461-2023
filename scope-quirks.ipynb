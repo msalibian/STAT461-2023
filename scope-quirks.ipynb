{
 "cells": [
  {
   "cell_type": "markdown",
   "metadata": {},
   "source": [
    "#### LICENSE\n",
    "\n",
    "These notes are released under the “Creative Commons\n",
    "Attribution-ShareAlike 4.0 International” license. See the\n",
    "**human-readable version**\n",
    "[here](https://creativecommons.org/licenses/by-sa/4.0/) and the **real\n",
    "thing**\n",
    "[here](https://creativecommons.org/licenses/by-sa/4.0/legalcode).\n",
    "\n",
    "## Some \"features\" of `R` that are worth remembering\n",
    "\n",
    "### Lazy evaluations\n",
    "\n",
    "Arguments passed to function are not \"used\" (evaluated) until it is\n",
    "necessary to do so. So they may be ignored in the body of the function\n",
    "to which they are passed. They can also make it work when calling\n",
    "a function with an\n",
    "argument that does not exist. This is a problem because if one \n",
    "calls a function with a argument that does not exist, it may \n",
    "indicate a logical issue that may never be detected. For example, \n",
    "consider the following short example. Consider the (bad!) function \n",
    "`f1` (where argument `a` is not used, and the returned object \n",
    "`x` does not exist within the function. "
   ]
  },
  {
   "cell_type": "code",
   "execution_count": null,
   "metadata": {},
   "outputs": [],
   "source": [
    "f1 <- function(a) return(x)"
   ]
  },
  {
   "cell_type": "markdown",
   "metadata": {},
   "source": [
    "We now create an object `x`  with value `3`\n",
    "(most of us have an `x` in our `R` environment / frame),\n",
    "and call `f1(u)`. Recall that there is no `u` when we \n",
    "call `f1`. What do you think will happen? "
   ]
  },
  {
   "cell_type": "code",
   "execution_count": null,
   "metadata": {},
   "outputs": [],
   "source": [
    "x <- 3\n",
    "f1(u)"
   ]
  },
  {
   "cell_type": "markdown",
   "metadata": {},
   "source": [
    "Not only calling `f1` with a nonexisting argument works, but it \n",
    "also returns the value of an object `x` that does not exist\n",
    "within `f1` (it is neither defined inside, nor passed as an\n",
    "argument). \n",
    "\n",
    "And it can be more interesting. Consider this change in `f1`"
   ]
  },
  {
   "cell_type": "code",
   "execution_count": null,
   "metadata": {},
   "outputs": [],
   "source": [
    "f1 <- function(a) return(x)/sum(a)"
   ]
  },
  {
   "cell_type": "markdown",
   "metadata": {},
   "source": [
    "You may think that `f1(u)` will now fail because it will try to evaluate\n",
    "`a`. But you will be wrong. "
   ]
  },
  {
   "cell_type": "code",
   "execution_count": null,
   "metadata": {},
   "outputs": [],
   "source": [
    "f1(u)"
   ]
  },
  {
   "cell_type": "markdown",
   "metadata": {},
   "source": [
    "### Scope"
   ]
  },
  {
   "cell_type": "markdown",
   "metadata": {},
   "source": [
    "To illustrate how `R` manages its environments, we will call `f1` from within another function `f2`. Again,\n",
    "its argument `z` is not used. There is an object `x` created inside\n",
    "`f2`, and then we return the value of `f1(z2)`, which is also suspicious,\n",
    "since there is no `z2` object anywhere. "
   ]
  },
  {
   "cell_type": "code",
   "execution_count": null,
   "metadata": {},
   "outputs": [],
   "source": [
    "f2 <- function(z) {\n",
    "  x <- 7\n",
    "  return(f1(z2))\n",
    "}"
   ]
  },
  {
   "cell_type": "markdown",
   "metadata": {},
   "source": [
    "Will `f2(e)` work? And if it does, what will it return? Which `x` will `f1` use? "
   ]
  },
  {
   "cell_type": "code",
   "execution_count": null,
   "metadata": {},
   "outputs": [],
   "source": [
    "f2(e)"
   ]
  },
  {
   "cell_type": "markdown",
   "metadata": {},
   "source": [
    "We now create another function `ff2`, again fairly untidy, but instead of returning `f1(z2)` we\n",
    "define a function `ff1` inside `ff2`, and return `ff1(z2)`. Again, `z2` does not exist anywhere, \n",
    "there again are two possible `x`'s that `ff1` may use. "
   ]
  },
  {
   "cell_type": "code",
   "execution_count": null,
   "metadata": {},
   "outputs": [],
   "source": [
    "ff2 <- function(u) {\n",
    "  ff1 <- function(a) return(x)\n",
    "  x <- 7\n",
    "  return(ff1(z2))/u^2\n",
    "}"
   ]
  },
  {
   "cell_type": "markdown",
   "metadata": {},
   "source": [
    "What would calling `ff2(some.object.that.does.not.exist)` return?"
   ]
  },
  {
   "cell_type": "code",
   "execution_count": null,
   "metadata": {},
   "outputs": [],
   "source": [
    "ff2(some.object.that.does.not.exist)"
   ]
  },
  {
   "cell_type": "markdown",
   "metadata": {},
   "source": [
    "Discuss. Now `ff1` uses the `x` of the environment that called it, unlike what `f1` did when we called it from within `f2`. What changed? Hint: function environments are attached when they are created. There are ways to override this behaviour explicitly, which is much better coding practice than relying on the default behaviour. "
   ]
  },
  {
   "cell_type": "markdown",
   "metadata": {},
   "source": [
    "### Recycling"
   ]
  },
  {
   "cell_type": "markdown",
   "metadata": {},
   "source": [
    "Consider a matrix `x` with 6 rows and two columns, and a vector `a` with 2 elements. What is `a*x`? is it different from `x*a`? "
   ]
  },
  {
   "cell_type": "code",
   "execution_count": null,
   "metadata": {},
   "outputs": [],
   "source": [
    "x <- matrix(rnorm(12), 6, 2)\n",
    "a <- c(3, 4)\n",
    "a * x"
   ]
  },
  {
   "cell_type": "markdown",
   "metadata": {},
   "source": [
    "Is it different from `x*a`? "
   ]
  },
  {
   "cell_type": "code",
   "execution_count": null,
   "metadata": {
    "scrolled": true
   },
   "outputs": [],
   "source": [
    "x * a"
   ]
  },
  {
   "cell_type": "markdown",
   "metadata": {},
   "source": [
    "Is `x*a` different from `x %*% a`? "
   ]
  },
  {
   "cell_type": "code",
   "execution_count": null,
   "metadata": {
    "scrolled": true
   },
   "outputs": [],
   "source": [
    "x %*% a"
   ]
  },
  {
   "cell_type": "markdown",
   "metadata": {},
   "source": [
    "Now, create a vector `y` of length 6 and compute `y - a * x` (a vector of length 6 minus a matrix of size 3 by 2). Could this work? yes!"
   ]
  },
  {
   "cell_type": "code",
   "execution_count": null,
   "metadata": {},
   "outputs": [],
   "source": [
    "y <- rnorm(6)\n",
    "y - a * x"
   ]
  },
  {
   "cell_type": "markdown",
   "metadata": {},
   "source": [
    "Not only it works, it does it without a warning. But what is the result? \n",
    "\n",
    "Note that it also works if `y` has 4 or 12 elements:"
   ]
  },
  {
   "cell_type": "code",
   "execution_count": null,
   "metadata": {},
   "outputs": [],
   "source": [
    "y <- rnorm(4)\n",
    "y - a * x\n",
    "y <- rnorm(12)\n",
    "y - a * x"
   ]
  },
  {
   "cell_type": "markdown",
   "metadata": {},
   "source": [
    "Note that this is not very unusual. Consider `X` a regression design matrix of size `n` by `d`, and `y` a vector of responses of length `d`, and `beta` the vector of regression coefficients, then \n",
    "```\n",
    "y - X * beta\n",
    "```\n",
    "will not give you the residuals you think it may. \n",
    "\n",
    "Here is a simple example:"
   ]
  },
  {
   "cell_type": "code",
   "execution_count": null,
   "metadata": {},
   "outputs": [],
   "source": [
    "data(Animals, package='MASS')\n",
    "fit <- lm(brain ~ body, data=Animals)\n",
    "beta.hat <- coef(fit)\n",
    "X <- model.matrix(fit)\n",
    "y <- Animals$brain"
   ]
  },
  {
   "cell_type": "markdown",
   "metadata": {},
   "source": [
    "There are 28 data points, so, there should be 28 residuals. \n",
    "\n",
    "But:"
   ]
  },
  {
   "cell_type": "code",
   "execution_count": null,
   "metadata": {},
   "outputs": [],
   "source": [
    "cbind(wrong = as.vector( y - X * beta.hat ), real=resid(fit))"
   ]
  },
  {
   "cell_type": "markdown",
   "metadata": {},
   "source": [
    "However:"
   ]
  },
  {
   "cell_type": "code",
   "execution_count": null,
   "metadata": {},
   "outputs": [],
   "source": [
    "cbind(right = as.vector( y - X %*% beta.hat ), real=resid(fit))"
   ]
  }
 ],
 "metadata": {
  "kernelspec": {
   "display_name": "R",
   "language": "R",
   "name": "ir"
  },
  "language_info": {
   "codemirror_mode": "r",
   "file_extension": ".r",
   "mimetype": "text/x-r-source",
   "name": "R",
   "pygments_lexer": "r",
   "version": "4.2.2"
  }
 },
 "nbformat": 4,
 "nbformat_minor": 2
}
