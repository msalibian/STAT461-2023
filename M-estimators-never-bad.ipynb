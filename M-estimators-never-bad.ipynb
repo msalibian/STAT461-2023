{
 "cells": [
  {
   "cell_type": "markdown",
   "metadata": {},
   "source": [
    "#### LICENSE\n",
    "These notes are released under the \n",
    "\"Creative Commons Attribution-ShareAlike 4.0 International\" license. \n",
    "See the **human-readable version** [here](https://creativecommons.org/licenses/by-sa/4.0/)\n",
    "and the **real thing** [here](https://creativecommons.org/licenses/by-sa/4.0/legalcode). "
   ]
  },
  {
   "cell_type": "markdown",
   "metadata": {},
   "source": [
    "#### INSTALLATION instructions\n",
    "\n",
    "To use this noteboook you may need to install a few packages in `R`:\n",
    "```\n",
    "install.packages(c('rmutil', 'robustbase', 'RobStatTM'))\n",
    "```"
   ]
  },
  {
   "cell_type": "markdown",
   "metadata": {},
   "source": [
    "# M-estimators are generally very close to being optimal\n",
    "\n",
    "Although M-estimators are generally not optimal, they are often \"quite good\", \n",
    "and rarely \"any bad\". Here we illustrate this with simple numerical experiments.\n",
    "\n",
    "To fix ideas, we will focus here on the simplest location/scale model, where\n",
    "our observations $X_i$ are assumed to satisfy\n",
    "$$\n",
    "X_i = \\mu_0 + \\sigma_0 \\, \\varepsilon \\, , \\quad 1 \\le i \\le n \\, ,\n",
    "$$\n",
    "where $\\varepsilon \\sim F_0$ a fixed distribution, symmetric\n",
    "around zero. We are interested\n",
    "in estimating the \"true\" center parameter $\\mu_0$. \n",
    "\n",
    "As long as the expected value of $F_0$ exists, then the sample\n",
    "mean $\\bar{X}_n$ will be an unbiased estimator for $\\mu_0$, and \n",
    "it often is the default estimator of choice. However, \n",
    "note that the good properties of the sample mean as\n",
    "an estimator for the population mean only hold under\n",
    "strict distributional assumptions. Even for symmetric\n",
    "errors, the sample mean may be highly inefficient \n",
    "(high variance). \n",
    "For example, if the errors have heavier tails than \n",
    "gaussian (double exponential, say), then the sample\n",
    "mean can perform significantly worse than the MLE\n",
    "(which, for the Laplace / double exponential case,\n",
    "is the sample median). \n",
    "However,  the data **are** Gaussian, then the sample\n",
    "median is notably inefficient (highly variable), leading\n",
    "to much less informative inference results. \n",
    "\n",
    "In practice, however, one rarely knows the actual\n",
    "distribution $F_0$, or how heavy its tails may be. So\n",
    "the choice of which estimator to use is a bit of a\n",
    "gamble. \n",
    "\n",
    "Alternatively, robust estimators try to find estimation methods that\n",
    "perform well in a variety of situations. They will typically\n",
    "not be optimal, but will generally be \n",
    "good enough, in the sense of constantly being \"very close second best\". \n",
    "\n",
    "The code below exemplifies simple Monte Carlo experiments\n",
    "comparing the efficiency (in terms of mean squared \n",
    "errors (MSE)) of natural estimators in each setting:\n",
    "the sample mean, the sample median, the MLE under each \n",
    "model, plus two M-estimators: \n",
    "the estimator labelled `monotoneM` is the M-estimator with\n",
    "Huber's non-decreasing `psi` function `pmax(pmin(t, k), -k)`, while\n",
    "the `redecsM` one uses a `psi` function in the Tukey bisquare\n",
    "family, that is zero for large \n",
    "residuals. \n",
    "\n",
    "In all the experiments below we use 10,000 samples of size $n = 50$, \n",
    "and use the computed estimators to estimate their  \n",
    "MSEs. \n",
    "\n",
    "#### Laplace errors\n",
    "\n",
    "Generate 10,000 samples, and put each of them in a row in the\n",
    "matrix `x`:"
   ]
  },
  {
   "cell_type": "code",
   "execution_count": null,
   "metadata": {},
   "outputs": [],
   "source": [
    "suppressPackageStartupMessages(library(rmutil))\n",
    "n <- 50\n",
    "M <- 10000\n",
    "set.seed(123)\n",
    "x <- matrix(rlaplace(n*M), M, n)"
   ]
  },
  {
   "cell_type": "markdown",
   "metadata": {},
   "source": [
    "Now compute the 10,000 sample means, sample medians, and the two M-estimators"
   ]
  },
  {
   "cell_type": "code",
   "execution_count": null,
   "metadata": {},
   "outputs": [],
   "source": [
    "mus <- rowMeans(x)\n",
    "meds <- apply(x, 1, median)\n",
    "monm <- apply(x, 1, function(a) robustbase::huberM(a, k = 1.345)$mu )\n",
    "redm <- apply(x, 1, function(a) RobStatTM::locScaleM(a, psi='bisquare')$mu )"
   ]
  },
  {
   "cell_type": "markdown",
   "metadata": {},
   "source": [
    "Now compute the MSE for each estimator. Note that in these experiments $\\mu_0 = 0$. "
   ]
  },
  {
   "cell_type": "code",
   "execution_count": null,
   "metadata": {},
   "outputs": [],
   "source": [
    "MSE.means <- mean( mus^2 )\n",
    "MSE.medians <- mean( meds^2 )\n",
    "MSE.monotoneM <- mean( monm^2 )\n",
    "MSE.redescM <- mean( redm^2 )"
   ]
  },
  {
   "cell_type": "markdown",
   "metadata": {},
   "source": [
    "Show the MSEs in an organized way:"
   ]
  },
  {
   "cell_type": "code",
   "execution_count": null,
   "metadata": {},
   "outputs": [],
   "source": [
    "round(rbind(MSE.means = MSE.means, MSE.medians= MSE.medians,\n",
    "  MSE.monotoneM = MSE.monotoneM, MSE.redescM = MSE.redescM ), 4)"
   ]
  },
  {
   "cell_type": "markdown",
   "metadata": {},
   "source": [
    "Show the relative loss (in terms of larger MSEs) of each estimator relative to the optimal estimator for this model (median):"
   ]
  },
  {
   "cell_type": "code",
   "execution_count": null,
   "metadata": {},
   "outputs": [],
   "source": [
    "round(rbind(eff.means = MSE.medians / MSE.means, \n",
    "            eff.medians = MSE.medians / MSE.medians, \n",
    "            eff.monotoneM = MSE.medians / MSE.monotoneM, \n",
    "            eff.redescM = MSE.medians / MSE.redescM), 4)"
   ]
  },
  {
   "cell_type": "markdown",
   "metadata": {},
   "source": [
    "Note that the M-estimators do much better than the sample mean, \n",
    "and fairly close to the optimal MLE. Note that the tuning constants of\n",
    "these M-estimators have been chosen to give a high efficiency at the \n",
    "Gaussian distribution, so to be \"close\" to the sample mean when that \n",
    "is appropriate. The efficiencies above for Laplace distributions could be\n",
    "improved at the price of a slight loss in efficiency at the Gaussian \n",
    "model. For example, you are encouraged to\n",
    "repeat these experiments using $k = 2$ or $k = 2.5$ \n",
    "in `robustbase::huberM`. \n",
    "\n",
    "#### Gaussian errors (M- vs MLE(mean))\n",
    "\n",
    "It is easy to see then when the sample mean is the optimal\n",
    "estimator (for example, when the errors are Gaussian), the\n",
    "M-estimators again behave very similarly to the optimal one."
   ]
  },
  {
   "cell_type": "code",
   "execution_count": null,
   "metadata": {
    "attributes": {
     "classes": [],
     "echo": "FALSE",
     "id": ""
    }
   },
   "outputs": [],
   "source": [
    "set.seed(123)\n",
    "x <- matrix(rnorm(n*M), M, n)\n",
    "mus <- rowMeans(x)\n",
    "meds <- apply(x, 1, median)\n",
    "# M-estimators\n",
    "monm <- apply(x, 1, function(a) robustbase::huberM(a, k = 1.345)$mu )\n",
    "redm <- apply(x, 1, function(a) RobStatTM::locScaleM(a, psi='bisquare')$mu )\n",
    "MSE.means <- mean( mus^2 )\n",
    "MSE.medians <- mean( meds^2 )\n",
    "MSE.monotoneM <- mean( monm^2 )\n",
    "MSE.redescM <- mean( redm^2 )"
   ]
  },
  {
   "cell_type": "code",
   "execution_count": null,
   "metadata": {},
   "outputs": [],
   "source": [
    "round(rbind(MSE.means = MSE.means, MSE.medians= MSE.medians,\n",
    "  MSE.monotoneM = MSE.monotoneM, MSE.redescM = MSE.redescM ), 4)"
   ]
  },
  {
   "cell_type": "code",
   "execution_count": null,
   "metadata": {},
   "outputs": [],
   "source": [
    "round(rbind(eff.means = MSE.means / MSE.means, \n",
    "            eff.medians = MSE.means / MSE.medians, \n",
    "            eff.monotoneM = MSE.means / MSE.monotoneM, \n",
    "            eff.redescM = MSE.means / MSE.redescM), 4)"
   ]
  },
  {
   "cell_type": "markdown",
   "metadata": {},
   "source": [
    "#### T4 errors (M- vs MLE)\n",
    "\n",
    "We repeat the experiment with Student's T errors (df = 4),\n",
    "and include the MLE estimator. The conclusion is the same as\n",
    "above."
   ]
  },
  {
   "cell_type": "code",
   "execution_count": null,
   "metadata": {
    "attributes": {
     "classes": [],
     "echo": "FALSE",
     "id": ""
    }
   },
   "outputs": [],
   "source": [
    "options(warn = -1) # remove all warning messages\n",
    "set.seed(123)\n",
    "x <- matrix(rt(n*M, df=4), M, n)\n",
    "mus <- rowMeans(x)\n",
    "meds <- apply(x, 1, median)\n",
    "mles <- apply(x, 1, function(a) MASS::fitdistr(a, 't', df=4)$estimate[1] )\n",
    "# M-estimators\n",
    "monm <- apply(x, 1, function(a) robustbase::huberM(a, k = 1.345)$mu )\n",
    "redm <- apply(x, 1, function(a) RobStatTM::locScaleM(a, psi='bisquare')$mu )\n",
    "MSE.means <- mean( mus^2 )\n",
    "MSE.medians <- mean( meds^2 )\n",
    "MSE.monotoneM <- mean( monm^2 )\n",
    "MSE.redescM <- mean( redm^2 )\n",
    "MSE.mles <- mean(mles^2)"
   ]
  },
  {
   "cell_type": "code",
   "execution_count": null,
   "metadata": {},
   "outputs": [],
   "source": [
    "round(rbind(MSE.means = MSE.means, MSE.medians= MSE.medians,\n",
    "            MSE.mles = MSE.mles, MSE.monotoneM = MSE.monotoneM, \n",
    "            MSE.redescM = MSE.redescM ), 4)"
   ]
  },
  {
   "cell_type": "code",
   "execution_count": null,
   "metadata": {},
   "outputs": [],
   "source": [
    "round(rbind(eff.means = MSE.mles / MSE.means, \n",
    "            eff.medians = MSE.mles / MSE.medians, \n",
    "            eff.mles = MSE.mles / MSE.mles,\n",
    "            eff.monotoneM = MSE.mles / MSE.monotoneM, \n",
    "            eff.redescM = MSE.mles / MSE.redescM), 4)"
   ]
  },
  {
   "cell_type": "markdown",
   "metadata": {},
   "source": [
    "#### Gross error oultiers (\"point contamination\") (M- vs all)\n",
    "\n",
    "Finally, if we use a \"gross error\"-type departure from a T-4 model, \n",
    "here the median and the redescending M-estimator are better than the \n",
    "MLE (the redescending M wins by a considerable marging)."
   ]
  },
  {
   "cell_type": "code",
   "execution_count": null,
   "metadata": {},
   "outputs": [],
   "source": [
    "options(warn = -1) # remove all warning messages\n",
    "generate <- function(n, epsilon, x0) {\n",
    "  tmp <- rbinom(n, size=1, prob=epsilon)\n",
    "  x <- rt(n, df=4)\n",
    "  x[ tmp == 1 ] <- rnorm(sum(tmp), mean=x0, sd=1)\n",
    "  return(x)\n",
    "}\n",
    "x <- matrix(NA, M, n)\n",
    "set.seed(123)\n",
    "for(i in 1:M) x[i,] <- generate(n=n, x0=8, epsilon=.1) \n",
    "mus <- rowMeans(x)\n",
    "meds <- apply(x, 1, median)\n",
    "mles <- apply(x, 1, function(a) MASS::fitdistr(a, 't', df=4)$estimate[1] )\n",
    "# M-estimators\n",
    "monm <- apply(x, 1, function(a) robustbase::huberM(a, k = 1.345)$mu )\n",
    "redm <- apply(x, 1, function(a) RobStatTM::locScaleM(a, psi='bisquare')$mu )\n",
    "MSE.means <- mean( mus^2 )\n",
    "MSE.medians <- mean( meds^2 )\n",
    "MSE.monotoneM <- mean( monm^2 )\n",
    "MSE.redescM <- mean( redm^2 ) \n",
    "MSE.mles <- mean(mles^2)"
   ]
  },
  {
   "cell_type": "code",
   "execution_count": null,
   "metadata": {
    "scrolled": true
   },
   "outputs": [],
   "source": [
    "round(rbind(MSE.means = MSE.means, MSE.medians= MSE.medians,\n",
    "            MSE.mles = MSE.mles, MSE.monotoneM = MSE.monotoneM, \n",
    "            MSE.redescM = MSE.redescM ), 4)"
   ]
  },
  {
   "cell_type": "code",
   "execution_count": null,
   "metadata": {
    "scrolled": false
   },
   "outputs": [],
   "source": [
    "round(rbind(acc.means = MSE.mles / MSE.means, \n",
    "            acc.medians = MSE.mles / MSE.medians, \n",
    "            acc.mles = MSE.mles / MSE.mles,\n",
    "            acc.monotoneM = MSE.mles / MSE.monotoneM, \n",
    "            acc.redescM = MSE.mles / MSE.redescM), 4)"
   ]
  }
 ],
 "metadata": {
  "kernelspec": {
   "display_name": "R",
   "language": "R",
   "name": "ir"
  },
  "language_info": {
   "codemirror_mode": "r",
   "file_extension": ".r",
   "mimetype": "text/x-r-source",
   "name": "R",
   "pygments_lexer": "r",
   "version": "4.2.2"
  }
 },
 "nbformat": 4,
 "nbformat_minor": 4
}
