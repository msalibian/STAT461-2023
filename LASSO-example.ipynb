{
 "cells": [
  {
   "cell_type": "markdown",
   "metadata": {},
   "source": [
    "#### LICENSE\n",
    "These notes are released under the \n",
    "\"Creative Commons Attribution-ShareAlike 4.0 International\" license. \n",
    "See the **human-readable version** [here](https://creativecommons.org/licenses/by-sa/4.0/)\n",
    "and the **real thing** [here](https://creativecommons.org/licenses/by-sa/4.0/legalcode). \n",
    "\n",
    "## LASSO \n",
    "\n",
    "Here is a simple illustration of a LASSO fit to a linear regression model, using\n",
    "`glmnet` with `alpha = 1`"
   ]
  },
  {
   "cell_type": "code",
   "execution_count": null,
   "metadata": {
    "attributes": {
     "classes": [],
     "id": "",
     "message": "FALSE",
     "warning": "FALSE,"
    }
   },
   "outputs": [],
   "source": [
    "airp <- read.table('rutgers-lib-30861_CSV-1.csv', header=TRUE, sep=',')\n",
    "xm <- model.matrix(MORT ~ . -1, data=airp)\n",
    "y <- airp$MORT\n",
    "\n",
    "library(glmnet)\n",
    "lambdas <- exp( seq(-10, 10, length=50))\n",
    "a <- glmnet(x=xm, y=y, family='gaussian', alpha=1)\n",
    "\n",
    "round( cbind(coef(a, s=exp(-2)),\n",
    "             coef(a, s=exp(.5)),\n",
    "             coef(a, s=exp(2)), \n",
    "             coef(a, s=exp(5))), 4)"
   ]
  },
  {
   "cell_type": "markdown",
   "metadata": {},
   "source": [
    "Look at the \"path of solutions\""
   ]
  },
  {
   "cell_type": "code",
   "execution_count": null,
   "metadata": {
    "attributes": {
     "classes": [],
     "id": "",
     "message": "FALSE",
     "warning": "FALSE,"
    }
   },
   "outputs": [],
   "source": [
    "plot(a, xvar='lambda', label=TRUE, lwd=6, cex.axis=1.5, cex.lab=1.5, ylim=c(-20, 5))"
   ]
  },
  {
   "cell_type": "markdown",
   "metadata": {},
   "source": [
    "Cross validation to select the level of penalization"
   ]
  },
  {
   "cell_type": "code",
   "execution_count": null,
   "metadata": {
    "attributes": {
     "classes": [],
     "id": "",
     "message": "FALSE",
     "warning": "FALSE,"
    }
   },
   "outputs": [],
   "source": [
    "set.seed(123)\n",
    "tmp <- cv.glmnet(x=xm, y=y, lambda=lambdas, nfolds=5, alpha=1, family='gaussian')\n",
    "plot(tmp, lwd=6, cex.axis=1.5, cex.lab=1.2)"
   ]
  }
 ],
 "metadata": {
  "kernelspec": {
   "display_name": "R",
   "language": "R",
   "name": "ir"
  },
  "language_info": {
   "codemirror_mode": "r",
   "file_extension": ".r",
   "mimetype": "text/x-r-source",
   "name": "R",
   "pygments_lexer": "r",
   "version": "4.2.2"
  }
 },
 "nbformat": 4,
 "nbformat_minor": 2
}
