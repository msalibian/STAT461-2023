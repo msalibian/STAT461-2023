{
 "cells": [
  {
   "cell_type": "markdown",
   "metadata": {},
   "source": [
    "#### LICENSE\n",
    "These notes are released under the \n",
    "\"Creative Commons Attribution-ShareAlike 4.0 International\" license. \n",
    "See the **human-readable version** [here](https://creativecommons.org/licenses/by-sa/4.0/)\n",
    "and the **real thing** [here](https://creativecommons.org/licenses/by-sa/4.0/legalcode). "
   ]
  },
  {
   "cell_type": "markdown",
   "metadata": {},
   "source": [
    "#### INSTALLATION instructions\n",
    "\n",
    "To use this noteboook you may need to install a few packages in `R`:\n",
    "```\n",
    "install.packages(c('rmutil', 'robustbase', 'RobStatTM'))\n",
    "```"
   ]
  },
  {
   "cell_type": "markdown",
   "metadata": {},
   "source": [
    "# Intro to M-estimators\n",
    "\n",
    "Here we will compute simple M-estimators. \n",
    "\n",
    "Start with a simple sample. "
   ]
  },
  {
   "cell_type": "code",
   "execution_count": 22,
   "metadata": {
    "scrolled": false
   },
   "outputs": [
    {
     "data": {
      "text/html": [
       "<table class=\"dataframe\">\n",
       "<caption>A matrix: 2 × 1 of type dbl</caption>\n",
       "<tbody>\n",
       "\t<tr><th scope=row>mean</th><td>4.929344</td></tr>\n",
       "\t<tr><th scope=row>median</th><td>4.889400</td></tr>\n",
       "</tbody>\n",
       "</table>\n"
      ],
      "text/latex": [
       "A matrix: 2 × 1 of type dbl\n",
       "\\begin{tabular}{r|l}\n",
       "\tmean & 4.929344\\\\\n",
       "\tmedian & 4.889400\\\\\n",
       "\\end{tabular}\n"
      ],
      "text/markdown": [
       "\n",
       "A matrix: 2 × 1 of type dbl\n",
       "\n",
       "| mean | 4.929344 |\n",
       "| median | 4.889400 |\n",
       "\n"
      ],
      "text/plain": [
       "       [,1]    \n",
       "mean   4.929344\n",
       "median 4.889400"
      ]
     },
     "metadata": {},
     "output_type": "display_data"
    }
   ],
   "source": [
    "set.seed(123)\n",
    "n <- 30\n",
    "x <- rnorm(30, mean=5, sd=1.5)\n",
    "rbind(mean = mean(x), median = median(x))"
   ]
  },
  {
   "cell_type": "markdown",
   "metadata": {},
   "source": [
    "We now compute an M-estimator, using a Huber loss, and without standardizing. We \n",
    "write our own code. "
   ]
  },
  {
   "cell_type": "code",
   "execution_count": 23,
   "metadata": {},
   "outputs": [],
   "source": [
    "huberPsi <- function(r, cc)\n",
    "    return( pmin(pmax(-cc, r), cc) )"
   ]
  },
  {
   "cell_type": "code",
   "execution_count": 24,
   "metadata": {},
   "outputs": [],
   "source": [
    "mest0 <- function(x, cc=1.345, init=median(x), max.it = 100, eps=1e-8) {\n",
    "    m1 <- init\n",
    "    m0 <- m1 + 10*eps\n",
    "    it <- 0\n",
    "    while( ((it <- it+1) < max.it ) & (abs(m1-m0) > eps ) ) {\n",
    "        re <- (x - m1)\n",
    "        w <- huberPsi(re, cc=cc)/re\n",
    "        w[ is.na(w) ] <- 1\n",
    "        m0 <- m1\n",
    "        m1 <- sum( x*w ) / sum(w)\n",
    "    }\n",
    "    return(m1)\n",
    "}"
   ]
  },
  {
   "cell_type": "markdown",
   "metadata": {},
   "source": [
    "Now, let's compute the M-estimator"
   ]
  },
  {
   "cell_type": "code",
   "execution_count": 25,
   "metadata": {},
   "outputs": [
    {
     "data": {
      "text/html": [
       "4.86340449535225"
      ],
      "text/latex": [
       "4.86340449535225"
      ],
      "text/markdown": [
       "4.86340449535225"
      ],
      "text/plain": [
       "[1] 4.863404"
      ]
     },
     "metadata": {},
     "output_type": "display_data"
    }
   ],
   "source": [
    "(mest0(x))"
   ]
  },
  {
   "cell_type": "markdown",
   "metadata": {},
   "source": [
    "What if we divide all the data by 100?"
   ]
  },
  {
   "cell_type": "code",
   "execution_count": 26,
   "metadata": {
    "scrolled": false
   },
   "outputs": [
    {
     "data": {
      "text/html": [
       "<style>\n",
       ".list-inline {list-style: none; margin:0; padding: 0}\n",
       ".list-inline>li {display: inline-block}\n",
       ".list-inline>li:not(:last-child)::after {content: \"\\00b7\"; padding: 0 .5ex}\n",
       "</style>\n",
       "<ol class=list-inline><li>4.92934436595229</li><li>4.92934436595229</li></ol>\n"
      ],
      "text/latex": [
       "\\begin{enumerate*}\n",
       "\\item 4.92934436595229\n",
       "\\item 4.92934436595229\n",
       "\\end{enumerate*}\n"
      ],
      "text/markdown": [
       "1. 4.92934436595229\n",
       "2. 4.92934436595229\n",
       "\n",
       "\n"
      ],
      "text/plain": [
       "[1] 4.929344 4.929344"
      ]
     },
     "metadata": {},
     "output_type": "display_data"
    },
    {
     "data": {
      "text/html": [
       "<style>\n",
       ".list-inline {list-style: none; margin:0; padding: 0}\n",
       ".list-inline>li {display: inline-block}\n",
       ".list-inline>li:not(:last-child)::after {content: \"\\00b7\"; padding: 0 .5ex}\n",
       "</style>\n",
       "<ol class=list-inline><li>4.88940010757471</li><li>4.88940010757471</li></ol>\n"
      ],
      "text/latex": [
       "\\begin{enumerate*}\n",
       "\\item 4.88940010757471\n",
       "\\item 4.88940010757471\n",
       "\\end{enumerate*}\n"
      ],
      "text/markdown": [
       "1. 4.88940010757471\n",
       "2. 4.88940010757471\n",
       "\n",
       "\n"
      ],
      "text/plain": [
       "[1] 4.8894 4.8894"
      ]
     },
     "metadata": {},
     "output_type": "display_data"
    },
    {
     "data": {
      "text/html": [
       "<style>\n",
       ".list-inline {list-style: none; margin:0; padding: 0}\n",
       ".list-inline>li {display: inline-block}\n",
       ".list-inline>li:not(:last-child)::after {content: \"\\00b7\"; padding: 0 .5ex}\n",
       "</style>\n",
       "<ol class=list-inline><li>4.86340449535225</li><li>4.92934436595229</li></ol>\n"
      ],
      "text/latex": [
       "\\begin{enumerate*}\n",
       "\\item 4.86340449535225\n",
       "\\item 4.92934436595229\n",
       "\\end{enumerate*}\n"
      ],
      "text/markdown": [
       "1. 4.86340449535225\n",
       "2. 4.92934436595229\n",
       "\n",
       "\n"
      ],
      "text/plain": [
       "[1] 4.863404 4.929344"
      ]
     },
     "metadata": {},
     "output_type": "display_data"
    }
   ],
   "source": [
    "c(mean(x), mean(x/100)*100)\n",
    "c(median(x), median(x/100)*100)\n",
    "c(mest0(x), mest0(x/100)*100)"
   ]
  },
  {
   "cell_type": "markdown",
   "metadata": {},
   "source": [
    "Let us add 5 outliers, and see what happens."
   ]
  },
  {
   "cell_type": "code",
   "execution_count": 28,
   "metadata": {
    "scrolled": false
   },
   "outputs": [
    {
     "data": {
      "text/html": [
       "<style>\n",
       ".list-inline {list-style: none; margin:0; padding: 0}\n",
       ".list-inline>li {display: inline-block}\n",
       ".list-inline>li:not(:last-child)::after {content: \"\\00b7\"; padding: 0 .5ex}\n",
       "</style>\n",
       "<ol class=list-inline><li>4.92934436595229</li><li>1.40695564179768</li></ol>\n"
      ],
      "text/latex": [
       "\\begin{enumerate*}\n",
       "\\item 4.92934436595229\n",
       "\\item 1.40695564179768\n",
       "\\end{enumerate*}\n"
      ],
      "text/markdown": [
       "1. 4.92934436595229\n",
       "2. 1.40695564179768\n",
       "\n",
       "\n"
      ],
      "text/plain": [
       "[1] 4.929344 1.406956"
      ]
     },
     "metadata": {},
     "output_type": "display_data"
    },
    {
     "data": {
      "text/html": [
       "<style>\n",
       ".list-inline {list-style: none; margin:0; padding: 0}\n",
       ".list-inline>li {display: inline-block}\n",
       ".list-inline>li:not(:last-child)::after {content: \"\\00b7\"; padding: 0 .5ex}\n",
       "</style>\n",
       "<ol class=list-inline><li>4.88940010757471</li><li>4.33150704485006</li></ol>\n"
      ],
      "text/latex": [
       "\\begin{enumerate*}\n",
       "\\item 4.88940010757471\n",
       "\\item 4.33150704485006\n",
       "\\end{enumerate*}\n"
      ],
      "text/markdown": [
       "1. 4.88940010757471\n",
       "2. 4.33150704485006\n",
       "\n",
       "\n"
      ],
      "text/plain": [
       "[1] 4.889400 4.331507"
      ]
     },
     "metadata": {},
     "output_type": "display_data"
    },
    {
     "data": {
      "text/html": [
       "<style>\n",
       ".list-inline {list-style: none; margin:0; padding: 0}\n",
       ".list-inline>li {display: inline-block}\n",
       ".list-inline>li:not(:last-child)::after {content: \"\\00b7\"; padding: 0 .5ex}\n",
       "</style>\n",
       "<ol class=list-inline><li>4.86340449535225</li><li>4.51481496666403</li></ol>\n"
      ],
      "text/latex": [
       "\\begin{enumerate*}\n",
       "\\item 4.86340449535225\n",
       "\\item 4.51481496666403\n",
       "\\end{enumerate*}\n"
      ],
      "text/markdown": [
       "1. 4.86340449535225\n",
       "2. 4.51481496666403\n",
       "\n",
       "\n"
      ],
      "text/plain": [
       "[1] 4.863404 4.514815"
      ]
     },
     "metadata": {},
     "output_type": "display_data"
    }
   ],
   "source": [
    "xc <- c(x, rnorm(5, mean=-20, sd=.5))\n",
    "c(mean(x), mean(xc))\n",
    "c(median(x), median(xc))\n",
    "c(mest0(x), mest0(xc))"
   ]
  },
  {
   "cell_type": "markdown",
   "metadata": {},
   "source": [
    "What if we now again divide all the data by 100? "
   ]
  },
  {
   "cell_type": "code",
   "execution_count": 29,
   "metadata": {
    "scrolled": false
   },
   "outputs": [
    {
     "data": {
      "text/html": [
       "<style>\n",
       ".list-inline {list-style: none; margin:0; padding: 0}\n",
       ".list-inline>li {display: inline-block}\n",
       ".list-inline>li:not(:last-child)::after {content: \"\\00b7\"; padding: 0 .5ex}\n",
       "</style>\n",
       "<ol class=list-inline><li>1.40695564179768</li><li>1.40695564179768</li></ol>\n"
      ],
      "text/latex": [
       "\\begin{enumerate*}\n",
       "\\item 1.40695564179768\n",
       "\\item 1.40695564179768\n",
       "\\end{enumerate*}\n"
      ],
      "text/markdown": [
       "1. 1.40695564179768\n",
       "2. 1.40695564179768\n",
       "\n",
       "\n"
      ],
      "text/plain": [
       "[1] 1.406956 1.406956"
      ]
     },
     "metadata": {},
     "output_type": "display_data"
    },
    {
     "data": {
      "text/html": [
       "<style>\n",
       ".list-inline {list-style: none; margin:0; padding: 0}\n",
       ".list-inline>li {display: inline-block}\n",
       ".list-inline>li:not(:last-child)::after {content: \"\\00b7\"; padding: 0 .5ex}\n",
       "</style>\n",
       "<ol class=list-inline><li>4.33150704485006</li><li>4.33150704485006</li></ol>\n"
      ],
      "text/latex": [
       "\\begin{enumerate*}\n",
       "\\item 4.33150704485006\n",
       "\\item 4.33150704485006\n",
       "\\end{enumerate*}\n"
      ],
      "text/markdown": [
       "1. 4.33150704485006\n",
       "2. 4.33150704485006\n",
       "\n",
       "\n"
      ],
      "text/plain": [
       "[1] 4.331507 4.331507"
      ]
     },
     "metadata": {},
     "output_type": "display_data"
    },
    {
     "data": {
      "text/html": [
       "<style>\n",
       ".list-inline {list-style: none; margin:0; padding: 0}\n",
       ".list-inline>li {display: inline-block}\n",
       ".list-inline>li:not(:last-child)::after {content: \"\\00b7\"; padding: 0 .5ex}\n",
       "</style>\n",
       "<ol class=list-inline><li>4.51481496666403</li><li>1.40695564179768</li></ol>\n"
      ],
      "text/latex": [
       "\\begin{enumerate*}\n",
       "\\item 4.51481496666403\n",
       "\\item 1.40695564179768\n",
       "\\end{enumerate*}\n"
      ],
      "text/markdown": [
       "1. 4.51481496666403\n",
       "2. 1.40695564179768\n",
       "\n",
       "\n"
      ],
      "text/plain": [
       "[1] 4.514815 1.406956"
      ]
     },
     "metadata": {},
     "output_type": "display_data"
    }
   ],
   "source": [
    "c(mean(xc), mean(xc/100)*100)\n",
    "c(median(xc), median(xc/100)*100)\n",
    "c(mest0(xc), mest0(xc/100)*100)"
   ]
  },
  {
   "cell_type": "markdown",
   "metadata": {},
   "source": [
    "The M estimator is equal to the sample mean. Uninformative!\n",
    "\n",
    "We need to standardize!"
   ]
  },
  {
   "cell_type": "code",
   "execution_count": 30,
   "metadata": {},
   "outputs": [],
   "source": [
    "mest <- function(x, cc=1.345, init=median(x), si = mad(x), max.it = 100, eps=1e-8) {\n",
    "    m1 <- init\n",
    "    m0 <- m1 + 10*eps\n",
    "    it <- 0\n",
    "    while( ((it <- it+1) < max.it ) & (abs(m1-m0) > eps ) ) {\n",
    "        re <- (x - m1) / si\n",
    "        w <- huberPsi(re, cc=cc)/re\n",
    "        w[ is.na(w) ] <- 1\n",
    "        m0 <- m1\n",
    "        m1 <- sum( x*w ) / sum(w)\n",
    "    }\n",
    "    return(m1)\n",
    "}"
   ]
  },
  {
   "cell_type": "markdown",
   "metadata": {},
   "source": [
    "And now everything works fine!"
   ]
  },
  {
   "cell_type": "code",
   "execution_count": 33,
   "metadata": {
    "scrolled": false
   },
   "outputs": [
    {
     "data": {
      "text/html": [
       "<style>\n",
       ".list-inline {list-style: none; margin:0; padding: 0}\n",
       ".list-inline>li {display: inline-block}\n",
       ".list-inline>li:not(:last-child)::after {content: \"\\00b7\"; padding: 0 .5ex}\n",
       "</style>\n",
       "<ol class=list-inline><li>1.40695564179768</li><li>1.40695564179768</li></ol>\n"
      ],
      "text/latex": [
       "\\begin{enumerate*}\n",
       "\\item 1.40695564179768\n",
       "\\item 1.40695564179768\n",
       "\\end{enumerate*}\n"
      ],
      "text/markdown": [
       "1. 1.40695564179768\n",
       "2. 1.40695564179768\n",
       "\n",
       "\n"
      ],
      "text/plain": [
       "[1] 1.406956 1.406956"
      ]
     },
     "metadata": {},
     "output_type": "display_data"
    },
    {
     "data": {
      "text/html": [
       "<style>\n",
       ".list-inline {list-style: none; margin:0; padding: 0}\n",
       ".list-inline>li {display: inline-block}\n",
       ".list-inline>li:not(:last-child)::after {content: \"\\00b7\"; padding: 0 .5ex}\n",
       "</style>\n",
       "<ol class=list-inline><li>4.33150704485006</li><li>4.33150704485006</li></ol>\n"
      ],
      "text/latex": [
       "\\begin{enumerate*}\n",
       "\\item 4.33150704485006\n",
       "\\item 4.33150704485006\n",
       "\\end{enumerate*}\n"
      ],
      "text/markdown": [
       "1. 4.33150704485006\n",
       "2. 4.33150704485006\n",
       "\n",
       "\n"
      ],
      "text/plain": [
       "[1] 4.331507 4.331507"
      ]
     },
     "metadata": {},
     "output_type": "display_data"
    },
    {
     "data": {
      "text/html": [
       "<style>\n",
       ".list-inline {list-style: none; margin:0; padding: 0}\n",
       ".list-inline>li {display: inline-block}\n",
       ".list-inline>li:not(:last-child)::after {content: \"\\00b7\"; padding: 0 .5ex}\n",
       "</style>\n",
       "<ol class=list-inline><li>4.45879320269425</li><li>4.45879318868085</li></ol>\n"
      ],
      "text/latex": [
       "\\begin{enumerate*}\n",
       "\\item 4.45879320269425\n",
       "\\item 4.45879318868085\n",
       "\\end{enumerate*}\n"
      ],
      "text/markdown": [
       "1. 4.45879320269425\n",
       "2. 4.45879318868085\n",
       "\n",
       "\n"
      ],
      "text/plain": [
       "[1] 4.458793 4.458793"
      ]
     },
     "metadata": {},
     "output_type": "display_data"
    }
   ],
   "source": [
    "c(mean(xc), mean(xc/100)*100)\n",
    "c(median(xc), median(xc/100)*100)\n",
    "c(mest(xc), mest(xc/100)*100)"
   ]
  }
 ],
 "metadata": {
  "kernelspec": {
   "display_name": "R",
   "language": "R",
   "name": "ir"
  },
  "language_info": {
   "codemirror_mode": "r",
   "file_extension": ".r",
   "mimetype": "text/x-r-source",
   "name": "R",
   "pygments_lexer": "r",
   "version": "4.2.2"
  }
 },
 "nbformat": 4,
 "nbformat_minor": 4
}
