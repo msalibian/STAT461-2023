{
 "cells": [
  {
   "cell_type": "markdown",
   "metadata": {},
   "source": [
    "#### LICENSE\n",
    "These notes are released under the \n",
    "\"Creative Commons Attribution-ShareAlike 4.0 International\" license. \n",
    "See the **human-readable version** [here](https://creativecommons.org/licenses/by-sa/4.0/)\n",
    "and the **real thing** [here](https://creativecommons.org/licenses/by-sa/4.0/legalcode). "
   ]
  },
  {
   "cell_type": "markdown",
   "metadata": {},
   "source": [
    "#### INSTALLATION instructions\n",
    "\n",
    "To use this noteboook you may need to install a few packages in `R`:\n",
    "```\n",
    "install.packages(c('rmutil', 'robustbase', 'RobStatTM'))\n",
    "```"
   ]
  },
  {
   "cell_type": "markdown",
   "metadata": {},
   "source": [
    "# Intro to M-estimators\n",
    "\n",
    "Here we will compute simple M-estimators. \n",
    "\n",
    "Start with a simple sample. "
   ]
  },
  {
   "cell_type": "code",
   "execution_count": null,
   "metadata": {
    "scrolled": false
   },
   "outputs": [],
   "source": [
    "set.seed(123)\n",
    "n <- 30\n",
    "x <- rnorm(30, mean=5, sd=1.5)\n",
    "rbind(mean = mean(x), median = median(x))"
   ]
  },
  {
   "cell_type": "markdown",
   "metadata": {},
   "source": [
    "We now compute an M-estimator, using a Huber loss, and without standardizing. We \n",
    "write our own code. "
   ]
  },
  {
   "cell_type": "code",
   "execution_count": null,
   "metadata": {},
   "outputs": [],
   "source": [
    "huberPsi <- function(r, cc)\n",
    "    return( pmin(pmax(-cc, r), cc) )"
   ]
  },
  {
   "cell_type": "code",
   "execution_count": null,
   "metadata": {},
   "outputs": [],
   "source": [
    "mest0 <- function(x, cc=1.345, init=median(x), max.it = 100, eps=1e-8) {\n",
    "    m1 <- init\n",
    "    m0 <- m1 + 10*eps\n",
    "    it <- 0\n",
    "    while( ((it <- it+1) < max.it ) & (abs(m1-m0) > eps ) ) {\n",
    "        re <- (x - m1)\n",
    "        w <- huberPsi(re, cc=cc)/re\n",
    "        w[ is.na(w) ] <- 1\n",
    "        m0 <- m1\n",
    "        m1 <- sum( x*w ) / sum(w)\n",
    "    }\n",
    "    return(m1)\n",
    "}"
   ]
  },
  {
   "cell_type": "markdown",
   "metadata": {},
   "source": [
    "Now, let's compute the M-estimator"
   ]
  },
  {
   "cell_type": "code",
   "execution_count": null,
   "metadata": {},
   "outputs": [],
   "source": [
    "(mest0(x))"
   ]
  },
  {
   "cell_type": "markdown",
   "metadata": {},
   "source": [
    "What if we divide all the data by 100?"
   ]
  },
  {
   "cell_type": "code",
   "execution_count": null,
   "metadata": {
    "scrolled": false
   },
   "outputs": [],
   "source": [
    "c(mean(x), mean(x/100)*100)\n",
    "c(median(x), median(x/100)*100)\n",
    "c(mest0(x), mest0(x/100)*100)"
   ]
  },
  {
   "cell_type": "markdown",
   "metadata": {},
   "source": [
    "Let us add 5 outliers, and see what happens."
   ]
  },
  {
   "cell_type": "code",
   "execution_count": null,
   "metadata": {
    "scrolled": false
   },
   "outputs": [],
   "source": [
    "xc <- c(x, rnorm(5, mean=-20, sd=.5))\n",
    "c(mean(x), mean(xc))\n",
    "c(median(x), median(xc))\n",
    "c(mest0(x), mest0(xc))"
   ]
  },
  {
   "cell_type": "markdown",
   "metadata": {},
   "source": [
    "What if we now again divide all the data by 100? "
   ]
  },
  {
   "cell_type": "code",
   "execution_count": null,
   "metadata": {
    "scrolled": false
   },
   "outputs": [],
   "source": [
    "c(mean(xc), mean(xc/100)*100)\n",
    "c(median(xc), median(xc/100)*100)\n",
    "c(mest0(xc), mest0(xc/100)*100)"
   ]
  },
  {
   "cell_type": "markdown",
   "metadata": {},
   "source": [
    "The M estimator is equal to the sample mean. Uninformative!\n",
    "\n",
    "We need to standardize!"
   ]
  },
  {
   "cell_type": "code",
   "execution_count": null,
   "metadata": {},
   "outputs": [],
   "source": [
    "mest <- function(x, cc=1.345, init=median(x), si = mad(x), max.it = 100, eps=1e-8) {\n",
    "    m1 <- init\n",
    "    m0 <- m1 + 10*eps\n",
    "    it <- 0\n",
    "    while( ((it <- it+1) < max.it ) & (abs(m1-m0) > eps ) ) {\n",
    "        re <- (x - m1) / si\n",
    "        w <- huberPsi(re, cc=cc)/re\n",
    "        w[ is.na(w) ] <- 1\n",
    "        m0 <- m1\n",
    "        m1 <- sum( x*w ) / sum(w)\n",
    "    }\n",
    "    return(m1)\n",
    "}"
   ]
  },
  {
   "cell_type": "markdown",
   "metadata": {},
   "source": [
    "And now everything works fine!"
   ]
  },
  {
   "cell_type": "code",
   "execution_count": null,
   "metadata": {
    "scrolled": false
   },
   "outputs": [],
   "source": [
    "c(mean(xc), mean(xc/100)*100)\n",
    "c(median(xc), median(xc/100)*100)\n",
    "c(mest(xc), mest(xc/100)*100)"
   ]
  }
 ],
 "metadata": {
  "kernelspec": {
   "display_name": "R",
   "language": "R",
   "name": "ir"
  },
  "language_info": {
   "codemirror_mode": "r",
   "file_extension": ".r",
   "mimetype": "text/x-r-source",
   "name": "R",
   "pygments_lexer": "r",
   "version": "4.2.2"
  }
 },
 "nbformat": 4,
 "nbformat_minor": 4
}
